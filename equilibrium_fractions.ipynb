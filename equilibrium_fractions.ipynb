{
 "cells": [
  {
   "cell_type": "code",
   "execution_count": 1,
   "metadata": {
    "collapsed": false
   },
   "outputs": [
    {
     "name": "stdout",
     "output_type": "stream",
     "text": [
      "Populating the interactive namespace from numpy and matplotlib\n"
     ]
    }
   ],
   "source": [
    "%pylab inline\n",
    "import pandas as pd\n",
    "color_set = cm.gist_earth(linspace(0.2, 0.9, 4))"
   ]
  },
  {
   "cell_type": "markdown",
   "metadata": {},
   "source": [
    "# Plots of extracted equilibrium fractions in ampicillin"
   ]
  },
  {
   "cell_type": "code",
   "execution_count": 2,
   "metadata": {
    "collapsed": true
   },
   "outputs": [],
   "source": [
    "data = pd.read_csv('./data/equilibrium_fractions_ampicillin_no_inhibitor.csv')"
   ]
  },
  {
   "cell_type": "code",
   "execution_count": 3,
   "metadata": {
    "collapsed": false
   },
   "outputs": [
    {
     "data": {
      "text/html": [
       "<div style=\"max-height:1000px;max-width:1500px;overflow:auto;\">\n",
       "<table border=\"1\" class=\"dataframe\">\n",
       "  <thead>\n",
       "    <tr style=\"text-align: right;\">\n",
       "      <th></th>\n",
       "      <th>dilution</th>\n",
       "      <th>ampicillin</th>\n",
       "      <th>feq #1</th>\n",
       "      <th>feq #2</th>\n",
       "      <th>feq #3</th>\n",
       "    </tr>\n",
       "  </thead>\n",
       "  <tbody>\n",
       "    <tr>\n",
       "      <th>0 </th>\n",
       "      <td> 100</td>\n",
       "      <td>   0</td>\n",
       "      <td> 0.000076</td>\n",
       "      <td> 0.003203</td>\n",
       "      <td>      NaN</td>\n",
       "    </tr>\n",
       "    <tr>\n",
       "      <th>1 </th>\n",
       "      <td> 100</td>\n",
       "      <td>   3</td>\n",
       "      <td>      NaN</td>\n",
       "      <td>      NaN</td>\n",
       "      <td>      NaN</td>\n",
       "    </tr>\n",
       "    <tr>\n",
       "      <th>2 </th>\n",
       "      <td> 100</td>\n",
       "      <td>  15</td>\n",
       "      <td> 0.097320</td>\n",
       "      <td> 0.108800</td>\n",
       "      <td> 0.117500</td>\n",
       "    </tr>\n",
       "    <tr>\n",
       "      <th>3 </th>\n",
       "      <td> 100</td>\n",
       "      <td>  50</td>\n",
       "      <td> 0.191600</td>\n",
       "      <td> 0.194700</td>\n",
       "      <td> 0.227700</td>\n",
       "    </tr>\n",
       "    <tr>\n",
       "      <th>4 </th>\n",
       "      <td> 100</td>\n",
       "      <td> 100</td>\n",
       "      <td> 0.394000</td>\n",
       "      <td> 0.332600</td>\n",
       "      <td> 0.428100</td>\n",
       "    </tr>\n",
       "    <tr>\n",
       "      <th>5 </th>\n",
       "      <td> 100</td>\n",
       "      <td> 125</td>\n",
       "      <td> 0.513000</td>\n",
       "      <td> 0.357400</td>\n",
       "      <td> 0.545400</td>\n",
       "    </tr>\n",
       "    <tr>\n",
       "      <th>6 </th>\n",
       "      <td> 100</td>\n",
       "      <td> 150</td>\n",
       "      <td> 0.676300</td>\n",
       "      <td> 0.610100</td>\n",
       "      <td> 0.624300</td>\n",
       "    </tr>\n",
       "    <tr>\n",
       "      <th>7 </th>\n",
       "      <td> 100</td>\n",
       "      <td> 200</td>\n",
       "      <td> 0.984800</td>\n",
       "      <td> 0.749200</td>\n",
       "      <td> 0.938800</td>\n",
       "    </tr>\n",
       "    <tr>\n",
       "      <th>8 </th>\n",
       "      <td> 200</td>\n",
       "      <td>   0</td>\n",
       "      <td>-0.000253</td>\n",
       "      <td> 0.003337</td>\n",
       "      <td> 0.001448</td>\n",
       "    </tr>\n",
       "    <tr>\n",
       "      <th>9 </th>\n",
       "      <td> 200</td>\n",
       "      <td>   3</td>\n",
       "      <td>      NaN</td>\n",
       "      <td>      NaN</td>\n",
       "      <td> 0.038930</td>\n",
       "    </tr>\n",
       "    <tr>\n",
       "      <th>10</th>\n",
       "      <td> 200</td>\n",
       "      <td>   5</td>\n",
       "      <td> 0.082280</td>\n",
       "      <td> 0.079330</td>\n",
       "      <td> 0.098400</td>\n",
       "    </tr>\n",
       "    <tr>\n",
       "      <th>11</th>\n",
       "      <td> 200</td>\n",
       "      <td>  15</td>\n",
       "      <td> 0.187900</td>\n",
       "      <td> 0.190100</td>\n",
       "      <td> 0.220900</td>\n",
       "    </tr>\n",
       "    <tr>\n",
       "      <th>12</th>\n",
       "      <td> 200</td>\n",
       "      <td>  25</td>\n",
       "      <td> 0.246600</td>\n",
       "      <td> 0.249500</td>\n",
       "      <td> 0.291900</td>\n",
       "    </tr>\n",
       "    <tr>\n",
       "      <th>13</th>\n",
       "      <td> 200</td>\n",
       "      <td>  50</td>\n",
       "      <td> 0.383800</td>\n",
       "      <td> 0.402900</td>\n",
       "      <td> 0.412500</td>\n",
       "    </tr>\n",
       "    <tr>\n",
       "      <th>14</th>\n",
       "      <td> 200</td>\n",
       "      <td>  75</td>\n",
       "      <td> 0.615900</td>\n",
       "      <td> 0.584300</td>\n",
       "      <td> 0.662400</td>\n",
       "    </tr>\n",
       "    <tr>\n",
       "      <th>15</th>\n",
       "      <td> 200</td>\n",
       "      <td> 100</td>\n",
       "      <td> 0.870900</td>\n",
       "      <td> 0.745000</td>\n",
       "      <td> 0.849600</td>\n",
       "    </tr>\n",
       "    <tr>\n",
       "      <th>16</th>\n",
       "      <td> 400</td>\n",
       "      <td>   0</td>\n",
       "      <td> 0.000057</td>\n",
       "      <td> 0.001901</td>\n",
       "      <td> 0.000926</td>\n",
       "    </tr>\n",
       "    <tr>\n",
       "      <th>17</th>\n",
       "      <td> 400</td>\n",
       "      <td>   3</td>\n",
       "      <td> 0.082980</td>\n",
       "      <td> 0.077260</td>\n",
       "      <td> 0.065890</td>\n",
       "    </tr>\n",
       "    <tr>\n",
       "      <th>18</th>\n",
       "      <td> 400</td>\n",
       "      <td>   5</td>\n",
       "      <td> 0.169300</td>\n",
       "      <td> 0.148500</td>\n",
       "      <td> 0.222300</td>\n",
       "    </tr>\n",
       "    <tr>\n",
       "      <th>19</th>\n",
       "      <td> 400</td>\n",
       "      <td>  10</td>\n",
       "      <td> 0.304600</td>\n",
       "      <td> 0.312100</td>\n",
       "      <td> 0.371100</td>\n",
       "    </tr>\n",
       "    <tr>\n",
       "      <th>20</th>\n",
       "      <td> 400</td>\n",
       "      <td>  15</td>\n",
       "      <td> 0.388500</td>\n",
       "      <td> 0.353000</td>\n",
       "      <td> 0.425700</td>\n",
       "    </tr>\n",
       "    <tr>\n",
       "      <th>21</th>\n",
       "      <td> 400</td>\n",
       "      <td>  25</td>\n",
       "      <td> 0.521900</td>\n",
       "      <td> 0.489400</td>\n",
       "      <td> 0.589200</td>\n",
       "    </tr>\n",
       "    <tr>\n",
       "      <th>22</th>\n",
       "      <td> 400</td>\n",
       "      <td>  35</td>\n",
       "      <td> 0.671200</td>\n",
       "      <td> 0.586100</td>\n",
       "      <td> 0.813000</td>\n",
       "    </tr>\n",
       "    <tr>\n",
       "      <th>23</th>\n",
       "      <td> 400</td>\n",
       "      <td>  50</td>\n",
       "      <td> 0.781800</td>\n",
       "      <td> 0.690100</td>\n",
       "      <td> 0.986200</td>\n",
       "    </tr>\n",
       "    <tr>\n",
       "      <th>24</th>\n",
       "      <td> 800</td>\n",
       "      <td>   0</td>\n",
       "      <td>      NaN</td>\n",
       "      <td>-0.000018</td>\n",
       "      <td>      NaN</td>\n",
       "    </tr>\n",
       "    <tr>\n",
       "      <th>25</th>\n",
       "      <td> 800</td>\n",
       "      <td>   2</td>\n",
       "      <td> 0.074210</td>\n",
       "      <td> 0.092060</td>\n",
       "      <td> 0.109100</td>\n",
       "    </tr>\n",
       "    <tr>\n",
       "      <th>26</th>\n",
       "      <td> 800</td>\n",
       "      <td>   3</td>\n",
       "      <td> 0.162700</td>\n",
       "      <td> 0.142300</td>\n",
       "      <td> 0.260500</td>\n",
       "    </tr>\n",
       "    <tr>\n",
       "      <th>27</th>\n",
       "      <td> 800</td>\n",
       "      <td>   4</td>\n",
       "      <td> 0.261700</td>\n",
       "      <td> 0.247700</td>\n",
       "      <td> 0.349700</td>\n",
       "    </tr>\n",
       "    <tr>\n",
       "      <th>28</th>\n",
       "      <td> 800</td>\n",
       "      <td>   5</td>\n",
       "      <td> 0.334100</td>\n",
       "      <td> 0.347900</td>\n",
       "      <td> 0.401900</td>\n",
       "    </tr>\n",
       "    <tr>\n",
       "      <th>29</th>\n",
       "      <td> 800</td>\n",
       "      <td>   7</td>\n",
       "      <td> 0.396200</td>\n",
       "      <td> 0.350700</td>\n",
       "      <td> 0.567800</td>\n",
       "    </tr>\n",
       "    <tr>\n",
       "      <th>30</th>\n",
       "      <td> 800</td>\n",
       "      <td>  10</td>\n",
       "      <td> 0.530500</td>\n",
       "      <td> 0.467500</td>\n",
       "      <td> 0.800300</td>\n",
       "    </tr>\n",
       "    <tr>\n",
       "      <th>31</th>\n",
       "      <td> 800</td>\n",
       "      <td>  15</td>\n",
       "      <td> 0.769800</td>\n",
       "      <td> 0.516500</td>\n",
       "      <td>      NaN</td>\n",
       "    </tr>\n",
       "  </tbody>\n",
       "</table>\n",
       "</div>"
      ],
      "text/plain": [
       "    dilution  ampicillin    feq #1    feq #2    feq #3\n",
       "0        100           0  0.000076  0.003203       NaN\n",
       "1        100           3       NaN       NaN       NaN\n",
       "2        100          15  0.097320  0.108800  0.117500\n",
       "3        100          50  0.191600  0.194700  0.227700\n",
       "4        100         100  0.394000  0.332600  0.428100\n",
       "5        100         125  0.513000  0.357400  0.545400\n",
       "6        100         150  0.676300  0.610100  0.624300\n",
       "7        100         200  0.984800  0.749200  0.938800\n",
       "8        200           0 -0.000253  0.003337  0.001448\n",
       "9        200           3       NaN       NaN  0.038930\n",
       "10       200           5  0.082280  0.079330  0.098400\n",
       "11       200          15  0.187900  0.190100  0.220900\n",
       "12       200          25  0.246600  0.249500  0.291900\n",
       "13       200          50  0.383800  0.402900  0.412500\n",
       "14       200          75  0.615900  0.584300  0.662400\n",
       "15       200         100  0.870900  0.745000  0.849600\n",
       "16       400           0  0.000057  0.001901  0.000926\n",
       "17       400           3  0.082980  0.077260  0.065890\n",
       "18       400           5  0.169300  0.148500  0.222300\n",
       "19       400          10  0.304600  0.312100  0.371100\n",
       "20       400          15  0.388500  0.353000  0.425700\n",
       "21       400          25  0.521900  0.489400  0.589200\n",
       "22       400          35  0.671200  0.586100  0.813000\n",
       "23       400          50  0.781800  0.690100  0.986200\n",
       "24       800           0       NaN -0.000018       NaN\n",
       "25       800           2  0.074210  0.092060  0.109100\n",
       "26       800           3  0.162700  0.142300  0.260500\n",
       "27       800           4  0.261700  0.247700  0.349700\n",
       "28       800           5  0.334100  0.347900  0.401900\n",
       "29       800           7  0.396200  0.350700  0.567800\n",
       "30       800          10  0.530500  0.467500  0.800300\n",
       "31       800          15  0.769800  0.516500       NaN"
      ]
     },
     "execution_count": 3,
     "metadata": {},
     "output_type": "execute_result"
    }
   ],
   "source": [
    "data"
   ]
  },
  {
   "cell_type": "code",
   "execution_count": 26,
   "metadata": {
    "collapsed": false
   },
   "outputs": [
    {
     "data": {
      "text/plain": [
       "(-0.05, 1.05)"
      ]
     },
     "execution_count": 26,
     "metadata": {},
     "output_type": "execute_result"
    },
    {
     "data": {
      "image/png": "[encoded data removed]",
      "text/plain": [
       "<matplotlib.figure.Figure at 0x7fd6562f2250>"
      ]
     },
     "metadata": {},
     "output_type": "display_data"
    }
   ],
   "source": [
    "data = pd.read_csv('./data/equilibrium_fractions_ampicillin_no_inhibitor.csv')\n",
    "data['dilution'] = data['dilution'].astype(int)\n",
    "data = data.pivot('ampicillin', 'dilution')\n",
    "\n",
    "# amp_feq.pivot('ampicillin', 'dilution').plot(marker='o')\n",
    "\n",
    "fig = figure()\n",
    "ax = subplot(111)\n",
    "\n",
    "data['feq #1'].plot(marker='o', ax=ax, legend=False, color=color_set)\n",
    "lines, labels = ax.get_legend_handles_labels()\n",
    "data['feq #2'].plot(marker='o', ax=ax,legend=False, color=color_set)\n",
    "data['feq #3'].plot(marker='o', ax=ax, legend=False, color=color_set)\n",
    "fig.legend(lines, labels, loc='center left', bbox_to_anchor=(0.90, 0.5), frameon=False, title='Dilution')\n",
    "xlabel('Ampicillin ($\\mu $g/ml)')\n",
    "ylabel('Equilibrium fraction')\n",
    "ylim(-0.05, 1.05)"
   ]
  },
  {
   "cell_type": "markdown",
   "metadata": {},
   "source": [
    "# Plots of extracted equilibrium fractions (mean) in tazobactam + ampicillin"
   ]
  },
  {
   "cell_type": "code",
   "execution_count": 27,
   "metadata": {
    "collapsed": false
   },
   "outputs": [],
   "source": [
    "data = pd.read_csv('./data/equilibrium_fractions_ampicillin_with_tazobactam.csv')\n",
    "# convert ampicillin concentration to integer value (just for legend)\n",
    "data['ampicillin (ug/ml)'] = data['ampicillin (ug/ml)'].astype(int)"
   ]
  },
  {
   "cell_type": "code",
   "execution_count": 28,
   "metadata": {
    "collapsed": false
   },
   "outputs": [],
   "source": [
    "data = data.pivot_table(['mean feq'], rows='tazobactam (ug/ml)', cols=['ampicillin (ug/ml)'])\n",
    "data.columns = data.columns.droplevel(0)"
   ]
  },
  {
   "cell_type": "code",
   "execution_count": 30,
   "metadata": {
    "collapsed": false
   },
   "outputs": [
    {
     "data": {
      "text/plain": [
       "<matplotlib.text.Text at 0x7fd656165890>"
      ]
     },
     "execution_count": 30,
     "metadata": {},
     "output_type": "execute_result"
    },
    {
     "data": {
      "image/png": "[encoded data removed]",
      "text/plain": [
       "<matplotlib.figure.Figure at 0x7fd6568929d0>"
      ]
     },
     "metadata": {},
     "output_type": "display_data"
    }
   ],
   "source": [
    "data.plot(marker='o', color=color_set)\n",
    "legend(loc='center left', bbox_transform=gcf().transFigure, \n",
    "       bbox_to_anchor=(0.9, 0.5), frameon=False, title='ampicillin (ug/ml)')\n",
    "ylim(-0.05, 1.05)\n",
    "ylabel('Equilibrium fraction')"
   ]
  }
 ],
 "metadata": {
  "kernelspec": {
   "display_name": "Python 2",
   "language": "python",
   "name": "python2"
  },
  "language_info": {
   "codemirror_mode": {
    "name": "ipython",
    "version": 2
   },
   "file_extension": ".py",
   "mimetype": "text/x-python",
   "name": "python",
   "nbconvert_exporter": "python",
   "pygments_lexer": "ipython2",
   "version": "2.7.6"
  }
 },
 "nbformat": 4,
 "nbformat_minor": 0
}
